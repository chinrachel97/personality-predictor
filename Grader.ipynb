{
 "cells": [
  {
   "cell_type": "markdown",
   "metadata": {},
   "source": [
    "# Imports"
   ]
  },
  {
   "cell_type": "code",
   "execution_count": 1,
   "metadata": {},
   "outputs": [],
   "source": [
    "import os\n",
    "import sys\n",
    "import csv\n",
    "import gzip\n",
    "import pandas as pd\n",
    "import re\n",
    "from IPython.display import HTML, display"
   ]
  },
  {
   "cell_type": "markdown",
   "metadata": {},
   "source": [
    "# User defined variables"
   ]
  },
  {
   "cell_type": "code",
   "execution_count": 2,
   "metadata": {},
   "outputs": [],
   "source": [
    "INPUT_FILE = 'Social Media Mining_April 1, 2019_09.08.csv'"
   ]
  },
  {
   "cell_type": "markdown",
   "metadata": {},
   "source": [
    "# Configuration"
   ]
  },
  {
   "cell_type": "code",
   "execution_count": null,
   "metadata": {},
   "outputs": [],
   "source": [
    "sdo_cons = [3, 4, 7, 8]\n",
    "sdo_regs = [1, 2, 5, 6]\n",
    "rwa_cons = [2, 4, 6, 8, 10, 12, 14]\n",
    "rwa_regs = [1, 3, 5, 7, 9, 11, 13, 15]"
   ]
  },
  {
   "cell_type": "markdown",
   "metadata": {},
   "source": [
    "# Helper function"
   ]
  },
  {
   "cell_type": "code",
   "execution_count": null,
   "metadata": {},
   "outputs": [],
   "source": [
    "def get_scores(table_row):\n",
    "    sdo = 0\n",
    "    rwa = 0\n",
    "    \n",
    "    for mapping in :\n",
    "        count = 0\n",
    "        score = 0\n",
    "        for col in mapping[1]:\n",
    "            val = int(table_row[col])\n",
    "            score = score + val\n",
    "            count = count + 1\n",
    "        scores.append([mapping[0], score/count])\n",
    "    return scores"
   ]
  },
  {
   "cell_type": "markdown",
   "metadata": {},
   "source": [
    "# Past here is old garbage"
   ]
  },
  {
   "cell_type": "markdown",
   "metadata": {},
   "source": [
    "# Helper functions"
   ]
  },
  {
   "cell_type": "code",
   "execution_count": 3,
   "metadata": {},
   "outputs": [],
   "source": [
    "'''\n",
    "def get_scores(trait_col_mapping, table_row):\n",
    "    scores = []\n",
    "    for mapping in trait_col_list:\n",
    "        count = 0\n",
    "        score = 0\n",
    "        for col in mapping[1]:\n",
    "            val = int(table_row[col])\n",
    "            score = score + val\n",
    "            count = count + 1\n",
    "        scores.append([mapping[0], score/count])\n",
    "    return scores\n",
    "'''"
   ]
  },
  {
   "cell_type": "markdown",
   "metadata": {},
   "source": [
    "# Open file"
   ]
  },
  {
   "cell_type": "code",
   "execution_count": 4,
   "metadata": {},
   "outputs": [],
   "source": [
    "'''\n",
    "in_file = pd.read_csv(INPUT_FILE)\n",
    "\n",
    "# Grab the trait related columns\n",
    "valid_cols = []\n",
    "for col in in_file.columns:\n",
    "    if re.match('[A-Za-z]+_[0-9]+', col):\n",
    "        valid_cols.append(col)\n",
    "\n",
    "# Map of personality trait name to a list of column names for that trait\n",
    "trait_col_list = []\n",
    "trait_list = []\n",
    "for col in valid_cols:\n",
    "    parts = col.split('_')\n",
    "    found = False\n",
    "    for mapping in trait_col_list:\n",
    "        if mapping[0] == parts[0]:\n",
    "            mapping[1].append(col)\n",
    "            found = True\n",
    "            break\n",
    "    if not found:\n",
    "        trait_col_list.append([parts[0], [col]])\n",
    "        trait_list.append(parts[0])\n",
    "\n",
    "score_map = []\n",
    "id_column = in_file.columns.get_loc('ResponseId')\n",
    "for index, row in in_file.iterrows():\n",
    "    try:\n",
    "        scores = get_scores(trait_col_list, row)\n",
    "    except ValueError:\n",
    "        continue\n",
    "    user_id = row[id_column]\n",
    "    score_map.append([user_id, scores])\n",
    "\n",
    "\n",
    "with open('test_scores.csv', mode='w') as score_file:\n",
    "    score_writer = csv.writer(score_file)\n",
    "    header = ['user_id']\n",
    "    for trait in trait_list:\n",
    "        header.append(trait)\n",
    "    score_writer.writerow(header)\n",
    "    for score_mapping in score_map:\n",
    "        line = [score_mapping[0]]\n",
    "        for pair in score_mapping[1]:\n",
    "            line.append(pair[1])\n",
    "        score_writer.writerow(line)\n",
    "'''"
   ]
  },
  {
   "cell_type": "code",
   "execution_count": null,
   "metadata": {},
   "outputs": [],
   "source": []
  }
 ],
 "metadata": {
  "kernelspec": {
   "display_name": "Python 3",
   "language": "python",
   "name": "python3"
  },
  "language_info": {
   "codemirror_mode": {
    "name": "ipython",
    "version": 3
   },
   "file_extension": ".py",
   "mimetype": "text/x-python",
   "name": "python",
   "nbconvert_exporter": "python",
   "pygments_lexer": "ipython3",
   "version": "3.6.7"
  }
 },
 "nbformat": 4,
 "nbformat_minor": 2
}
