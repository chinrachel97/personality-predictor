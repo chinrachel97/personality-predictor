{
 "cells": [
  {
   "cell_type": "markdown",
   "metadata": {},
   "source": [
    "# Setup"
   ]
  },
  {
   "cell_type": "code",
   "execution_count": 1,
   "metadata": {},
   "outputs": [],
   "source": [
    "import os\n",
    "import tweepy\n",
    "import sys\n",
    "import csv\n",
    "import gzip\n",
    "import pandas as pd\n",
    "from tweepy import TweepError"
   ]
  },
  {
   "cell_type": "markdown",
   "metadata": {},
   "source": [
    "# User defined constants"
   ]
  },
  {
   "cell_type": "code",
   "execution_count": 8,
   "metadata": {},
   "outputs": [],
   "source": [
    "# Specify the name of the CSV file containing the list of usernames\n",
    "USERNAME_FILE = \"./Social Media Mining_April 1, 2019_09.08.csv\"\n",
    "OUTPUT_USERNAME_FILE = 'valid_usernames.csv'\n",
    "OUTPUT_UID_FILE = 'valid_uids'\n",
    "OUTPUT_UID_ZIP_FILE = 'valid_uids.gz'"
   ]
  },
  {
   "cell_type": "markdown",
   "metadata": {},
   "source": [
    "# Helper functions"
   ]
  },
  {
   "cell_type": "code",
   "execution_count": 3,
   "metadata": {},
   "outputs": [],
   "source": [
    "def auth_tweepy(token_label_string, token_object):\n",
    "    auth_handler = tweepy.OAuthHandler(token_object['consumer-key'], token_object['consumer-secret'])\n",
    "    auth_handler.set_access_token(token_object['access-token'], token_object['access-token-secret'])\n",
    "    \n",
    "    twitter_api = tweepy.API(auth_handler)\n",
    "\n",
    "    # twitter_api_tokens.insert(0, (token_label_string, token_object))\n",
    "    \n",
    "    return twitter_api"
   ]
  },
  {
   "cell_type": "code",
   "execution_count": 4,
   "metadata": {},
   "outputs": [],
   "source": [
    "def get_user_id(username, api):\n",
    "    user = api.get_user(username)\n",
    "    return user.id"
   ]
  },
  {
   "cell_type": "markdown",
   "metadata": {},
   "source": [
    "# Authenticate with twitter"
   ]
  },
  {
   "cell_type": "code",
   "execution_count": 5,
   "metadata": {},
   "outputs": [],
   "source": [
    "token_label_string, token_object = 'non-bs detector 2', {\n",
    "        'consumer-key': \"NqBkDNnFE843DaKtsFsPJCs2U\",\n",
    "        'consumer-secret': \"UbyFnnsJfc3rLkgf7qcoel9QZ8yJtv8FCs1JLySjC9eUIcgMdi\",\n",
    "        'access-token': \"1559190498-aSi2gUaawU9KioPU02vyg3ZCBRftxE6oqepyxu7\",\n",
    "        'access-token-secret': \"ZDfrZOJ4Sq4ZWqcE3gftpgXqAfh2PWyhLw3rRFUf6nEoH\"\n",
    "    }\n",
    "twitter_api = auth_tweepy(token_label_string, token_object)"
   ]
  },
  {
   "cell_type": "markdown",
   "metadata": {},
   "source": [
    "# Process usernames"
   ]
  },
  {
   "cell_type": "code",
   "execution_count": 6,
   "metadata": {},
   "outputs": [],
   "source": [
    "uids = []\n",
    "valid_names = []\n",
    "for username in pd.read_csv(USERNAME_FILE).TwitHandle:\n",
    "    username = str(username)\n",
    "    pos = username.find('@')\n",
    "    if not pos == -1:\n",
    "        username = username[pos+1:]\n",
    "    if username == 'nan':\n",
    "        continue\n",
    "    if username.lower() == 'yes':\n",
    "        continue\n",
    "    try:\n",
    "        uid = get_user_id(username, twitter_api)\n",
    "    except TweepError:\n",
    "        # Not useful\n",
    "        continue\n",
    "    uids.append(str(uid))\n",
    "    valid_names.append(username)"
   ]
  },
  {
   "cell_type": "markdown",
   "metadata": {},
   "source": [
    "# Output valid usernames"
   ]
  },
  {
   "cell_type": "code",
   "execution_count": 19,
   "metadata": {},
   "outputs": [],
   "source": [
    "with open(OUTPUT_USERNAME_FILE, 'w') as csvfile:\n",
    "    userwriter = csv.writer(csvfile)\n",
    "    userwriter.writerow(valid_names)\n",
    "\n",
    "with open(OUTPUT_UID_FILE, \"w\") as f:\n",
    "    for uid in uids:\n",
    "        f.write('\"' + str(uid) + '\"\\n')\n",
    "\n",
    "f_in = open(OUTPUT_UID_FILE, 'rb')\n",
    "f_out = gzip.open(OUTPUT_UID_ZIP_FILE, 'wb')\n",
    "f_out.write(f_in.read())\n",
    "f_out.close()\n",
    "f_in.close()"
   ]
  },
  {
   "cell_type": "code",
   "execution_count": null,
   "metadata": {},
   "outputs": [],
   "source": []
  }
 ],
 "metadata": {
  "kernelspec": {
   "display_name": "Python 3",
   "language": "python",
   "name": "python3"
  },
  "language_info": {
   "codemirror_mode": {
    "name": "ipython",
    "version": 3
   },
   "file_extension": ".py",
   "mimetype": "text/x-python",
   "name": "python",
   "nbconvert_exporter": "python",
   "pygments_lexer": "ipython3",
   "version": "3.6.7"
  }
 },
 "nbformat": 4,
 "nbformat_minor": 2
}
